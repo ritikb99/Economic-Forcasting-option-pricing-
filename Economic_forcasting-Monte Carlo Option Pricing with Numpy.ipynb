{
 "cells": [
  {
   "cell_type": "markdown",
   "metadata": {},
   "source": [
    "# Pure Python vs NumPy\n",
    "The purpose of this example is to show how a Python program is more concise and quicker if the program is vectorised with Numerical Python (`numpy`). We will illustrate this by pricing a European stock option with a Monte Carlo method.\n",
    "\n",
    "## Black-Scholes-Merton PDE\n",
    "Perhaps one of the most known relationships in finance is the Black-Scholes-Merton (BSM) equation. The BSM equation is a partial differential equation, which describes the price of an option over time. For a European stock option paying no dividends the equation is\n",
    "$$ \\frac{\\partial V}{\\partial t} +\\frac{1}{2}\\sigma^2 S^2 \\frac{\\partial V^2}{\\partial S^2} + rS \\frac{\\partial V}{\\partial S} - rV = 0, $$\n",
    "where $V = V(S,t)$ is the price of the derivative as a function of time and stock price, $S$ is the price of the underlying stock, $\\sigma$ is the volatility of return of the underlying asset and $r$ is the annualised risk-free interest rate, continuoulsy compounded.\n",
    "The most interesting aspect of this eqution is that one should, in theory, be able to hedge an investment by buying and selling the underlying asset in just the right way and consequently eliminate all risk. This hedge, in turn, implies that there must be only one right price for the option. In the Black-Scholes world, severel assumptions are made.\n",
    "* There exists a risk free assets in which any investor can invest at the risk free interest rate $r$.\n",
    "* The instantaneous logarithmic return of a stock price is an infinitesimal random walk with drift; more precisely, the stock follows a geometric Brownian motion. Drift and volatility is constant.\n",
    "* The stock does noe pay a dividend.\n",
    "* There is no arbitrage oppourtunites, ie. there is no way to make a riskless profit.\n",
    "* It is possible to borrow and lend any amount, even fractional, of cash at the riskless rate.\n",
    "* it is possible to buy and sell any amount, even fractional, of the stock, including selling short.\n",
    "* The transactions do not incur any fees or costs, ie. the market is frictionless.\n",
    "\n",
    "## Monte Carlo Approach\n",
    "Instead of trying to price an option by solving the equation above, we will take a numerical approach. As already stated, the underlying stock of the model follows a geometric Brownian motion described by the following stochastic differential equation (SDE)\n",
    "$$ dS_t = r S_tdt + \\sigma S_t dZ_t.$$\n",
    "The only new variable here is $Z_t$ which is a (ordinary) Brownian motion, sometimes called a Wiener process. Notice that the notation has changed somewhat, because we have moved from a continuous to discrete variables. This means that time moves a chunk at atime, like a day, instead of continuously. \n",
    "\n",
    "### The Wiener process\n",
    "\n",
    "A Wiener process $W_t$ is characterised by the following properties.\n",
    "1. $W_0 = 0$\n",
    "2. $W$ has independent increments: for every $t>0$, the future increments $W_{t+u}-W_t, u \\geq0$, are independent of past values $W_s, s \\leq t$.\n",
    "3. $W_t$ has Gaussian increments: $W_{t+u} - W_t$ is normally distributed with mean $O$ and variance $u$, s.t. $W_{t+u} - W_t \\sim \\mathcal{N}(0,u)$\n",
    "\n",
    "Below is a very simple implementation of a Wiener process in Python with a resulting plot that might as well have been a stock."
   ]
  },
  {
   "cell_type": "code",
   "execution_count": 2,
   "metadata": {},
   "outputs": [
    {
     "data": {
      "image/png": "[encoded data removed]",
      "text/plain": [
       "<matplotlib.figure.Figure at 0x7fa7fc177cc0>"
      ]
     },
     "metadata": {},
     "output_type": "display_data"
    }
   ],
   "source": [
    "from matplotlib import pyplot as plt\n",
    "import random\n",
    "\n",
    "T = 100\n",
    "u = 1\n",
    "W_t = [0]\n",
    "\n",
    "for i in range(T):\n",
    "    W_last = W_t[-1]\n",
    "    W_t.append(W_last + random.gauss(0, u))\n",
    "\n",
    "plt.plot(W_t)\n",
    "plt.title(\"Wiener process\")\n",
    "plt.show()"
   ]
  },
  {
   "cell_type": "markdown",
   "metadata": {},
   "source": [
    "### Algorithm for Pricing a European Call Option\n",
    "The value of an underlying stock $S$ at maturity time $T$ is\n",
    "$$ S_T = S_{t-\\Delta t} e^{(r - \\frac{\\sigma^2}{2})\\Delta T + \\sigma\\sqrt{\\Delta t}z_t}, $$\n",
    "where $z$ is is a standard normally distrubuted stochastic variable. This relation is found by Euler discretisation of the SDE above. The keen student of finance may notice that it contains the formula for conintuously compounded interest, $S = S_0e^{rT}$, and some extra stochastic exponents.\n",
    "\n",
    "The algorthm (recipe) we want to follow is the following.\n",
    "1. Divide the time interval $[0,T]$ into equidistant subintervals of length $t$.\n",
    "2. Start iterating $i = 1,2,\\dots,N$.\n",
    "\n",
    "    1. For every time step $t \\in {t, 2t, \\dots, T}$ draw (pseudo) random numbers $z_t(i)$.\n",
    "    2. Determine the time $T$ value of the stock $S_T(i)$ by applying the random number time step by time step.\n",
    "    3. Determine the inner value $h_T$ of the European call option at $T$: $h_t(S_T(i)) = \\max(S_T(i) - K, 0)$, where $K$ is the strike price of the option.\n",
    "    \n",
    "3. Sum up inner values, average, and discount them back with the riskless interest rate:\n",
    "$$ C_0 \\approx e^{-rT} \\frac{1}{N} \\sum_{i=1}^N h_T(S_T(i)).$$\n",
    "This last equation is our Monte Carlo estimator for the European call option."
   ]
  },
  {
   "cell_type": "markdown",
   "metadata": {},
   "source": [
    "## Implementation of the Algorithm in Pure Python"
   ]
  },
  {
   "cell_type": "code",
   "execution_count": 3,
   "metadata": {},
   "outputs": [
    {
     "name": "stdout",
     "output_type": "stream",
     "text": [
      "Price of European Call: 8.021610\n",
      "Time elapsed: 32.791825\n"
     ]
    }
   ],
   "source": [
    "from math import exp, sqrt, log\n",
    "import time\n",
    "\n",
    "# Parameters\n",
    "S0 = 100.0  # Initial value\n",
    "K = 105.0   # Strike price\n",
    "T = 1.0     # Maturity\n",
    "r = 0.05    # Riskless interest rate\n",
    "sigma = 0.2 # Volatility\n",
    "M = 50      # Number of time steps\n",
    "dt = T / M  # Length of time interval\n",
    "N = 500000  # Number of paths\n",
    "S = []      # Empty list for stock price\n",
    "\n",
    "# Timer start\n",
    "start = time.time()\n",
    "\n",
    "# Simulating N paths with M time steps\n",
    "for i in range(N):\n",
    "    path = []\n",
    "    for t in range(M + 1):\n",
    "        if t == 0:\n",
    "            path.append(S0)\n",
    "        else:\n",
    "            z = random.gauss(0.0, 1.0)\n",
    "            St = path[t - 1] * exp(( r - 0.5 * sigma**2)*dt\\\n",
    "                 + sigma*sqrt(dt)*z)\n",
    "            path.append(St)\n",
    "    S.append(path)\n",
    "\n",
    "# Calculating Monte Carlo estimator - list comprehension\n",
    "C0 = exp(-r*T)*sum([max(path[-1] - K, 0) for path in S]) / N\n",
    "\n",
    "# Timer stop\n",
    "time_elapsed = time.time() - start\n",
    "\n",
    "# Results output\n",
    "print(\"Price of European Call: {:>7f}\" .format(C0))\n",
    "print(\"Time elapsed: {:>7f}\" . format(time_elapsed))"
   ]
  },
  {
   "cell_type": "markdown",
   "metadata": {},
   "source": [
    "We now have our call option price, which is very good. What is not so good is that it took a while until the program finished. This is because we made use of iterative loops and Python's built in list data structure. This is generally an ineffective way to do things. Now we will do the same thing, but with vectorised variables using Numerical Python or NumPy."
   ]
  },
  {
   "cell_type": "markdown",
   "metadata": {},
   "source": [
    "## Improvements to the Algorithm Using NumPy\n",
    "`numpy` allows for vectorised operations. This means that instead of having to do an operation to each component of an array sequentially, one can do this operation on the array as a whole. This is a much quicker way to do things. Moreover, the program code will be much shorter and usually look nicer."
   ]
  },
  {
   "cell_type": "code",
   "execution_count": 4,
   "metadata": {},
   "outputs": [
    {
     "name": "stdout",
     "output_type": "stream",
     "text": [
      "Price of European Call: 8.154728\n",
      "Time elapsed: 1.842272\n"
     ]
    }
   ],
   "source": [
    "import numpy as np\n",
    "\n",
    "# Timer start\n",
    "start = time.time()\n",
    "\n",
    "# Valuation algorithm\n",
    "z = np.random.standard_normal((M + 1, N))\n",
    "S = S0 * np.exp(np.cumsum((r - 0.5*sigma**2)*dt\\\n",
    "                        + sigma*sqrt(dt)*z, axis=0))\n",
    "\n",
    "# Calculating Monte Carlo estimator\n",
    "C0 = exp(-r*T)*sum(np.maximum(S[-1] - K, 0)) / N\n",
    "\n",
    "# Timer stop\n",
    "time_elapsed = time.time() - start\n",
    "\n",
    "# Results output\n",
    "print(\"Price of European Call: {:>7f}\" .format(C0))\n",
    "print(\"Time elapsed: {:>7f}\" . format(time_elapsed))"
   ]
  }
 ],
 "metadata": {
  "kernelspec": {
   "display_name": "Python 3",
   "language": "python",
   "name": "python3"
  },
  "language_info": {
   "codemirror_mode": {
    "name": "ipython",
    "version": 3
   },
   "file_extension": ".py",
   "mimetype": "text/x-python",
   "name": "python",
   "nbconvert_exporter": "python",
   "pygments_lexer": "ipython3",
   "version": "3.6.1"
  }
 },
 "nbformat": 4,
 "nbformat_minor": 2
}
